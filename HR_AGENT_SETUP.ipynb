{
 "metadata": {
  "kernelspec": {
   "display_name": "Streamlit Notebook",
   "name": "streamlit"
  },
  "lastEditStatus": {
   "notebookId": "gchosy7ycyzik7b2rdho",
   "authorId": "6395069994791",
   "authorName": "ALGODFREY",
   "authorEmail": "allison.godfrey@snowflake.com",
   "sessionId": "a7c6ddcc-07f5-4571-a39d-652509d4bd5a",
   "lastEditTime": 1752602544942
  }
 },
 "nbformat_minor": 5,
 "nbformat": 4,
 "cells": [
  {
   "cell_type": "code",
   "id": "3775908f-ca36-4846-8f38-5adca39217f2",
   "metadata": {
    "language": "python",
    "name": "Imports"
   },
   "source": "import warnings\nwarnings.filterwarnings(\"ignore\")\nimport streamlit as st\nimport pandas as pd\nimport json\nimport re\nfrom snowflake.snowpark.context import get_active_session\nfrom snowflake.snowpark.functions import col\nfrom snowflake.snowpark import types as T\nfrom snowflake.snowpark import Row\nfrom snowflake.core import Root\nfrom snowflake.cortex import Complete\nsession = get_active_session()",
   "execution_count": null,
   "outputs": []
  },
  {
   "cell_type": "code",
   "id": "ed324616-e97e-4a99-8370-04cec4e934b0",
   "metadata": {
    "language": "sql",
    "name": "GrantRoles",
    "codeCollapsed": false
   },
   "outputs": [],
   "source": "-- Create a dedicated role & service user\nUSE ROLE ACCOUNTADMIN;\n\n-- Grant privileges to the AICOLLEGE role\nGRANT USAGE, OPERATE ON WAREHOUSE snowflake_intelligence_wh TO ROLE snowflake_intelligence_admin_rl;\nGRANT ALL ON DATABASE si_hr_demo TO ROLE snowflake_intelligence_admin_rl;\nGRANT ALL ON SCHEMA si_hr_demo.public TO ROLE snowflake_intelligence_admin_rl;\nGRANT CREATE STAGE ON SCHEMA si_hr_demo.public TO ROLE snowflake_intelligence_admin_rl;\nGRANT SELECT ON FUTURE TABLES IN SCHEMA si_hr_demo.public TO ROLE snowflake_intelligence_admin_rl;\nGRANT SELECT ON FUTURE VIEWS  IN SCHEMA si_hr_demo.public TO ROLE snowflake_intelligence_admin_rl;\nGRANT READ ON STAGE si_hr_demo.public.hr_docs TO ROLE snowflake_intelligence_admin_rl;\nGRANT DATABASE ROLE snowflake.cortex_user TO ROLE snowflake_intelligence_admin_rl;",
   "execution_count": null
  },
  {
   "cell_type": "code",
   "id": "8d50cbf4-0c8d-4950-86cb-114990437ac9",
   "metadata": {
    "language": "sql",
    "name": "ViewStage"
   },
   "source": "-- View the list of files in the stage to ensure 6 are present\nLIST @SI_HR_DEMO.PUBLIC.HR_DOCS PATTERN='.*\\.pdf$';",
   "execution_count": null,
   "outputs": []
  },
  {
   "cell_type": "code",
   "id": "c695373e-ac74-4b62-a1f1-08206cbd5c81",
   "metadata": {
    "language": "sql",
    "name": "ViewDoc"
   },
   "source": "-- View an HR doc\nSELECT\n  SNOWFLAKE.CORTEX.PARSE_DOCUMENT(\n    '@SI_HR_DEMO.PUBLIC.HR_DOCS',\n    'international_travel_policy.pdf',\n    OBJECT_CONSTRUCT('mode','layout')\n  ) AS layout;",
   "execution_count": null,
   "outputs": []
  },
  {
   "cell_type": "code",
   "id": "c86eeea1-015e-4a0d-9960-1fd08267b943",
   "metadata": {
    "language": "sql",
    "name": "ParseDocs"
   },
   "outputs": [],
   "source": "USE ROLE snowflake_intelligence_admin_rl;\n\n-- Create the parsed_docs table\nCREATE TABLE IF NOT EXISTS PARSED_HR_DOCS (\n    RELATIVE_PATH  STRING PRIMARY KEY,          -- full path in the stage\n    RAW_TEXT       VARIANT,                     -- PDF text\n    LOADED_AT      TIMESTAMP_TZ DEFAULT CURRENT_TIMESTAMP()\n);\n\n-- Process files one at a time to avoid stage scanning issues\nINSERT INTO PARSED_HR_DOCS (RELATIVE_PATH, RAW_TEXT)\nSELECT \n    RELATIVE_PATH,\n    SNOWFLAKE.CORTEX.PARSE_DOCUMENT(      --> Use Snowflake's Parse Document function\n        '@SI_HR_DEMO.PUBLIC.HR_DOCS',\n        RELATIVE_PATH,\n        OBJECT_CONSTRUCT('mode','layout') --> Use layout mode\n    ) AS RAW_TEXT\nFROM DIRECTORY('@SI_HR_DEMO.PUBLIC.HR_DOCS') f\nWHERE\n  RELATIVE_PATH NOT IN (SELECT RELATIVE_PATH FROM PARSED_HR_DOCS);",
   "execution_count": null
  },
  {
   "cell_type": "code",
   "id": "cd6284de-0c97-4b6b-aaa9-a352bb8952e3",
   "metadata": {
    "language": "sql",
    "name": "SeeParsedText"
   },
   "outputs": [],
   "source": "-- Validate PARSED_DOCS was created correctly\nSELECT * FROM PARSED_HR_DOCS LIMIT 5;",
   "execution_count": null
  },
  {
   "cell_type": "code",
   "id": "d9d4b442-3f03-48bc-9f17-ddd57aa956fa",
   "metadata": {
    "language": "sql",
    "name": "ChunkDocs"
   },
   "outputs": [],
   "source": "-- Create chunks of the parsed transcripts\nCREATE TABLE IF NOT EXISTS HR_DOC_CHUNKS (\n    RELATIVE_PATH  STRING,\n    CHUNK          STRING\n);\n\n-- Insert chunked content using SPLIT_TEXT_RECURSIVE_CHARACTER\nINSERT INTO HR_DOC_CHUNKS (RELATIVE_PATH, CHUNK)\nWITH text_chunks AS (\n    SELECT\n        RELATIVE_PATH,\n        SNOWFLAKE.CORTEX.SPLIT_TEXT_RECURSIVE_CHARACTER(  --> Use Snowflake's Split Text Recursive function\n            RAW_TEXT:content::STRING,  -- extract string content\n            'markdown',                -- tokenizer\n            800,                       -- chunk size\n            100,                       -- overlap\n            ARRAY_CONSTRUCT('\\n\\n')    -- preferred break\n        ) AS CHUNKS\n    FROM PARSED_HR_DOCS\n    WHERE RAW_TEXT:content IS NOT NULL -- optional safety check\n)\nSELECT\n    RELATIVE_PATH,\n    chunk.value::STRING AS CHUNK  --> Save chunks of parsed transcripts as \"CHUNK\"\nFROM text_chunks,\nLATERAL FLATTEN(input => CHUNKS) AS chunk;  --> Flatten the chuncked output",
   "execution_count": null
  },
  {
   "cell_type": "code",
   "id": "6f3c45ea-e3d4-41c6-8320-ffd7f96c0884",
   "metadata": {
    "language": "sql",
    "name": "SeeChunkedText"
   },
   "outputs": [],
   "source": "-- Validate HR_DOC_CHUNKS was created correctly\nSELECT * FROM HR_DOC_CHUNKS LIMIT 5;",
   "execution_count": null
  },
  {
   "cell_type": "code",
   "id": "00560c83-3a11-4359-bdec-381335d5a351",
   "metadata": {
    "language": "sql",
    "name": "CreateCortexSearchService"
   },
   "outputs": [],
   "source": "-- Create a Cortex Search Service over your chunked HR docs table\nCREATE OR REPLACE CORTEX SEARCH SERVICE SI_HR_DEMO.PUBLIC.HR_DOCS_SEARCH_SERVICE \n    ON CHUNK\n    ATTRIBUTES RELATIVE_PATH\n    WAREHOUSE = SNOWFLAKE_INTELLIGENCE_WH\n    TARGET_LAG = '365 days'\n    EMBEDDING_MODEL = 'snowflake-arctic-embed-l-v2.0'  -- Optional: Select your desired embedding model\n    AS (\n    SELECT\n        RELATIVE_PATH,\n        CHUNK::VARCHAR AS CHUNK,\n    FROM HR_DOC_CHUNKS);",
   "execution_count": null
  },
  {
   "cell_type": "code",
   "id": "f64aa1c7-c7fe-41fa-b814-3fcf253ee2e6",
   "metadata": {
    "language": "sql",
    "name": "cell1"
   },
   "outputs": [],
   "source": "CREATE OR REPLACE CORTEX SEARCH SERVICE EMPLOYEE_NAME_SEARCH\n  ON full_name\n  ATTRIBUTES employee_id, first_name, last_name\n  WAREHOUSE = SNOWFLAKE_INTELLIGENCE_WH\n  TARGET_LAG = '24 hour'\n  AS (\n      SELECT \n          EMPLOYEE_ID,\n          FIRST_NAME,\n          LAST_NAME,\n          FIRST_NAME || ' ' || LAST_NAME AS full_name\n      FROM SI_HR_DEMO.PUBLIC.EMPLOYEES\n  );",
   "execution_count": null
  },
  {
   "cell_type": "code",
   "id": "b1bc7f89-bd82-4406-9493-5d1c4ae5445f",
   "metadata": {
    "language": "sql",
    "name": "cell2",
    "codeCollapsed": false
   },
   "outputs": [],
   "source": "SELECT * FROM EMPLOYEES",
   "execution_count": null
  },
  {
   "cell_type": "code",
   "id": "b29d1073-d544-4c84-a1c1-3fd297515612",
   "metadata": {
    "language": "sql",
    "name": "cell3"
   },
   "outputs": [],
   "source": "",
   "execution_count": null
  }
 ]
}